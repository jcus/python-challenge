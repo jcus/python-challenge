{
 "cells": [
  {
   "cell_type": "code",
   "execution_count": null,
   "id": "7c7c836b",
   "metadata": {},
   "outputs": [],
   "source": [
    "# import os modules to create path across operating system to load csv file\n",
    "import os\n",
    "# module for reading csv files\n",
    "import csv"
   ]
  },
  {
   "cell_type": "code",
   "execution_count": null,
   "id": "d33c6089",
   "metadata": {},
   "outputs": [],
   "source": [
    "# read csv data and load to budgetDB\n",
    "#csvpath = os.path.join(\"Resources\",\"budget_data.csv\")\n",
    "inputfile = os.path.join(\"Resources\",\"budget_data.csv\")"
   ]
  },
  {
   "cell_type": "code",
   "execution_count": null,
   "id": "e9388053",
   "metadata": {},
   "outputs": [],
   "source": [
    "# creat a txt file to hold the analysis\n",
    "outputfile = os.path.join(\"Analysis\",\"budget_analysis.txt\")"
   ]
  },
  {
   "cell_type": "code",
   "execution_count": null,
   "id": "6a7f1de4",
   "metadata": {},
   "outputs": [],
   "source": [
    "# set var and initialize to zero\n",
    "totalMonths = 0     \n",
    "totalBudget = 0"
   ]
  },
  {
   "cell_type": "code",
   "execution_count": null,
   "id": "d698070e",
   "metadata": {},
   "outputs": [],
   "source": [
    "# set list to store all of the monthly changes\n",
    "monthChange = [1]      \n",
    "months = []"
   ]
  },
  {
   "cell_type": "code",
   "execution_count": null,
   "id": "8cd4227e",
   "metadata": {},
   "outputs": [],
   "source": [
    "# use csvreader object to read the csv file\n",
    "#with open(csvpath, newline = \"\") as csvfile:\n",
    "    # create a csv reader object\n",
    "#    csvreader = csv.reader(csvfile, delimiter=\",\")\n",
    "    \n",
    "    # skip the first row since it has all of the column information\n",
    "    #next(csvreader)\n",
    "    \n",
    "#header: date, profit/losses\n",
    "#print(csvreader)"
   ]
  },
  {
   "cell_type": "code",
   "execution_count": null,
   "id": "fdcc38b3",
   "metadata": {},
   "outputs": [],
   "source": [
    "# use csvreader object to read the csv file\n",
    "with open(inputfile, newline=\"\") as budget_data:\n",
    "    # create a csv reader object\n",
    "    csvreader = csv.reader(budget_data)\n",
    "\n",
    "    # read the header row\n",
    "    header = next(csvreader)\n",
    "    # move to the next row (first row)\n",
    "    firstRow = next(csvreader)\n",
    "    \n",
    "    print(header)\n",
    "    print(firstRow)"
   ]
  },
  {
   "cell_type": "code",
   "execution_count": null,
   "id": "fa66f6eb",
   "metadata": {},
   "outputs": [],
   "source": [
    "# establish the previous budget and note that budget is in index 1\n",
    "previousBudget = float(firstRow[1])\n",
    "\n",
    "# increment the total months and add on to the total amount of budget\n",
    "totalMonths += 1\n",
    "totalBudget += float(firstRow[1])\n",
    "print(totalMonths, totalBudget)"
   ]
  },
  {
   "cell_type": "code",
   "execution_count": null,
   "id": "f98a1dd0",
   "metadata": {},
   "outputs": [],
   "source": [
    "for row in csvreader:\n",
    "    totalMonths += 1\n",
    "    \n",
    "    totalBudget += float(row[1])\n",
    "    \n",
    "    print(totalBudget)\n",
    "    \n",
    "    # calculate the net change\n",
    "    netChange = float(row[1]) - previousBudget\n",
    "    # add on to the list of monthly changes\n",
    "    monthChange.append(netChange)\n",
    "    \n",
    "    print(monthChange)\n",
    "    \n",
    "    # add the first month that a change occurred, note that the month is in index 0\n",
    "    months.append(row[0])\n",
    "    \n",
    "    # update the previous budget\n",
    "    previousBudget = float(row[1])"
   ]
  },
  {
   "cell_type": "code",
   "execution_count": null,
   "id": "fa1eac78",
   "metadata": {},
   "outputs": [],
   "source": [
    "# calculate the average change \n",
    "avgChange = sum(monthChange) / len(monthChange)\n",
    "print(avgChange)"
   ]
  },
  {
   "cell_type": "code",
   "execution_count": null,
   "id": "b8a0b2dd",
   "metadata": {},
   "outputs": [],
   "source": [
    "# set variables to hold the month and value of the greatest increase and decrease in profits\n",
    "greatestIncrease = [months[0], monthChange[0]]\n",
    "print(greatestIncrease)\n",
    "greatestDecrease = [months[0], monthChange[0]]\n",
    "print(greatestDecrease)"
   ]
  },
  {
   "cell_type": "code",
   "execution_count": null,
   "id": "c29625af",
   "metadata": {},
   "outputs": [],
   "source": [
    "# create loop to calculate the index of the greatest and least monthly change\n",
    "for p in range(len(monthChange)):\n",
    "    if (monthChange[p] > greatestIncrease[1]):\n",
    "        greatestIncrease[1] = monthChange[p]\n",
    "        greatestIncrease[0] = months[p]\n",
    "\n",
    "\n",
    "    if (monthChange[p] < greatestDecrease[1]):\n",
    "        greatestDecrease[1] = monthChange[p]\n",
    "        greatestDecrease[0] = months[p]    \n",
    "\n",
    "\n",
    "# start generating the output\n",
    "output = (\n",
    "    f\"Financial Anaylsis \\n\"\n",
    "    f\"------------------------- \\n\"\n",
    "    f\"Total Months: {totalMonths} \\n\"\n",
    "    f\"Total Budget: ${totalBudget} \\n\"\n",
    "    f\"Average Change: ${avgChange} \\n\"\n",
    "    f\"Greatest Increase in Profit: {greatestIncrease[0]} ({greatestIncrease[1]}) \\n\"\n",
    "    f\"Greatest Dncrease in Profit: {greatestDecrease[0]} ({greatestDecrease[1]})\"\n",
    "    )"
   ]
  },
  {
   "cell_type": "code",
   "execution_count": null,
   "id": "15bc2703",
   "metadata": {},
   "outputs": [],
   "source": [
    "# print the output\n",
    "print(output)\n",
    "\n",
    "# export the output to the output text file\n",
    "with open(outputfile, \"w\") as textfile:\n",
    "    textfile.write(output)"
   ]
  }
 ],
 "metadata": {
  "kernelspec": {
   "display_name": "Python 3",
   "language": "python",
   "name": "python3"
  },
  "language_info": {
   "codemirror_mode": {
    "name": "ipython",
    "version": 3
   },
   "file_extension": ".py",
   "mimetype": "text/x-python",
   "name": "python",
   "nbconvert_exporter": "python",
   "pygments_lexer": "ipython3",
   "version": "3.8.8"
  }
 },
 "nbformat": 4,
 "nbformat_minor": 5
}
