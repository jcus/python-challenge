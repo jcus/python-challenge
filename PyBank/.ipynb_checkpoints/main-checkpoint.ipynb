{
 "cells": [
  {
   "cell_type": "code",
   "execution_count": 1,
   "id": "7c7c836b",
   "metadata": {},
   "outputs": [],
   "source": [
    "# import os modules to create path across operating system to load csv file\n",
    "import os\n",
    "# module for reading csv files\n",
    "import csv"
   ]
  },
  {
   "cell_type": "code",
   "execution_count": 2,
   "id": "d33c6089",
   "metadata": {},
   "outputs": [],
   "source": [
    "# read csv data and load to budgetDB\n",
    "#csvpath = os.path.join(\"Resources\",\"budget_data.csv\")\n",
    "inputfile = os.path.join(\"Resources\",\"budget_data.csv\")"
   ]
  },
  {
   "cell_type": "code",
   "execution_count": 3,
   "id": "e9388053",
   "metadata": {},
   "outputs": [],
   "source": [
    "# creat a txt file to hold the analysis\n",
    "outputfile = os.path.join(\"Analysis\",\"budget_analysis.txt\")"
   ]
  },
  {
   "cell_type": "code",
   "execution_count": 4,
   "id": "6a7f1de4",
   "metadata": {},
   "outputs": [],
   "source": [
    "# set var and initialize to zero\n",
    "totalMonths = 0     \n",
    "totalBudget = 0"
   ]
  },
  {
   "cell_type": "code",
   "execution_count": 5,
   "id": "d698070e",
   "metadata": {},
   "outputs": [],
   "source": [
    "# set list to store all of the monthly changes\n",
    "monthChange = []      \n",
    "months = []"
   ]
  },
  {
   "cell_type": "code",
   "execution_count": 6,
   "id": "8cd4227e",
   "metadata": {},
   "outputs": [],
   "source": [
    "# use csvreader object to read the csv file\n",
    "with open(inputfile) as budget_data:\n",
    "    # create a csv reader object\n",
    "    csvreader = csv.reader(budget_data)\n",
    "\n",
    "    # read the header row\n",
    "    header = next(csvreader)\n",
    "    # move to the next row (first row)\n",
    "    firstRow = next(csvreader)\n",
    "    \n",
    "    # establish the previous budget and note that budget is in index 1\n",
    "    previousBudget = float(firstRow[1])\n",
    "    \n",
    "    # increace the total months and add on to the total amount of budget    \n",
    "    totalMonths += 1\n",
    "    totalBudget += float(firstRow[1])\n",
    "    \n",
    "    for row in csvreader: \n",
    "        totalMonths += 1\n",
    "        totalBudget += float(row[1])\n",
    "        \n",
    "        # calculate the net change\n",
    "        netChange = float(row[1]) - previousBudget\n",
    "        \n",
    "        # add on to the list of monthly changes\n",
    "        monthChange.append(netChange)\n",
    "        \n",
    "        # add the first month that a change occurred, note that the month is in index 0\n",
    "        months.append(row[0])\n",
    "        \n",
    "        # update the previous budget\n",
    "        previousBudget = float(row[1])"
   ]
  },
  {
   "cell_type": "code",
   "execution_count": 7,
   "id": "201be262",
   "metadata": {},
   "outputs": [],
   "source": [
    "##**Error: ValueError: I/O operation on closed file. on line \"for row in csvreader:\"\n",
    "# indent our for loop so that it is within our with statement:"
   ]
  },
  {
   "cell_type": "code",
   "execution_count": 8,
   "id": "8a8ba4e0",
   "metadata": {},
   "outputs": [],
   "source": [
    "## use csvreader object to read the csv file\n",
    "#with open(csvpath, newline = \"\") as csvfile:\n",
    "## create a csv reader object\n",
    "#csvreader = csv.reader(csvfile, delimiter=\",\")\n",
    "## skip the first row since it has all of the column information\n",
    "#next(csvreader)"
   ]
  },
  {
   "cell_type": "code",
   "execution_count": 9,
   "id": "c8f55e42",
   "metadata": {},
   "outputs": [],
   "source": [
    "# calculate the average change \n",
    "avgChange = sum(monthChange) / len(monthChange)"
   ]
  },
  {
   "cell_type": "code",
   "execution_count": 10,
   "id": "1288a1a7",
   "metadata": {},
   "outputs": [],
   "source": [
    "# set variables to hold the month and value of the greatest increase and decrease in profits\n",
    "greatestIncrease = [months[0], monthChange[0]]\n",
    "greatestDecrease = [months[0], monthChange[0]]"
   ]
  },
  {
   "cell_type": "code",
   "execution_count": 11,
   "id": "1f701864",
   "metadata": {},
   "outputs": [],
   "source": [
    "# create loop to calculate the index of the greatest and least monthly change\n",
    "for m in range(len(monthChange)):\n",
    "    if (monthChange[m] > greatestIncrease[1]):\n",
    "        greatestIncrease[1] = monthChange[m]\n",
    "        greatestIncrease[0] = months[m]\n",
    "\n",
    "    if (monthChange[m] < greatestDecrease[1]):\n",
    "        greatestDecrease[1] = monthChange[m]\n",
    "        greatestDecrease[0] = months[m]   "
   ]
  },
  {
   "cell_type": "code",
   "execution_count": 12,
   "id": "db62419d",
   "metadata": {},
   "outputs": [],
   "source": [
    "# start generating the output\n",
    "output = (\n",
    "    f\"Financial Anaylsis \\n\"\n",
    "    f\"------------------------- \\n\"\n",
    "    f\"Total Months: {totalMonths} \\n\"\n",
    "    f\"Total : ${totalBudget} \\n\"\n",
    "    f\"Average  Change: ${avgChange} \\n\"\n",
    "    f\"Greatest Increase in Profits: {greatestIncrease[0]} ({greatestIncrease[1]}) \\n\"\n",
    "    f\"Greatest Decrease in Profits: {greatestDecrease[0]} ({greatestDecrease[1]})\"\n",
    "    )"
   ]
  },
  {
   "cell_type": "code",
   "execution_count": 13,
   "id": "06e06c18",
   "metadata": {},
   "outputs": [
    {
     "name": "stdout",
     "output_type": "stream",
     "text": [
      "Financial Anaylsis \n",
      "------------------------- \n",
      "Total Months: 86 \n",
      "Total : $38382578.0 \n",
      "Average  Change: $-2315.1176470588234 \n",
      "Greatest Increase in Profits: Feb-2012 (1926159.0) \n",
      "Greatest Decrease in Profits: Sep-2013 (-2196167.0)\n"
     ]
    }
   ],
   "source": [
    "# print the output\n",
    "print(output)\n",
    "\n",
    "# export the output to the output text file\n",
    "with open(outputfile, \"w\") as textfile:\n",
    "    textfile.write(output)"
   ]
  },
  {
   "cell_type": "code",
   "execution_count": 14,
   "id": "512e0919",
   "metadata": {},
   "outputs": [],
   "source": [
    "##*Error under for loop, shows ValueError: I/O operation on closed file.\n",
    "# After the with statement is executed, the file is closed.==>\n",
    "# need to indent the for loop so add::"
   ]
  }
 ],
 "metadata": {
  "kernelspec": {
   "display_name": "Python 3",
   "language": "python",
   "name": "python3"
  },
  "language_info": {
   "codemirror_mode": {
    "name": "ipython",
    "version": 3
   },
   "file_extension": ".py",
   "mimetype": "text/x-python",
   "name": "python",
   "nbconvert_exporter": "python",
   "pygments_lexer": "ipython3",
   "version": "3.8.8"
  }
 },
 "nbformat": 4,
 "nbformat_minor": 5
}
