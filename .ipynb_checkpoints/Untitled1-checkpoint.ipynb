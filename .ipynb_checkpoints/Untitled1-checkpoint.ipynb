{
 "cells": [
  {
   "cell_type": "code",
   "execution_count": null,
   "id": "7c7c836b",
   "metadata": {},
   "outputs": [],
   "source": [
    "# import os modules to create path across operating system to load csv file\n",
    "import os\n",
    "# module for reading csv files\n",
    "import csv"
   ]
  },
  {
   "cell_type": "code",
   "execution_count": null,
   "id": "d33c6089",
   "metadata": {},
   "outputs": [],
   "source": [
    "# read csv data and load to budgetDB\n",
    "csvpath = os.path.join(\"Resources\",\"budget_data.csv\")"
   ]
  },
  {
   "cell_type": "code",
   "execution_count": null,
   "id": "e9388053",
   "metadata": {},
   "outputs": [],
   "source": [
    "# creat a txt file to hold the analysis\n",
    "outputfile = os.path.join(\"Analysis\",\"budget_analysis.txt\")"
   ]
  },
  {
   "cell_type": "code",
   "execution_count": null,
   "id": "6a7f1de4",
   "metadata": {},
   "outputs": [],
   "source": [
    "# set var and initialize to zero\n",
    "totalMonths = 0     \n",
    "totalBudget = 0"
   ]
  },
  {
   "cell_type": "code",
   "execution_count": null,
   "id": "d698070e",
   "metadata": {},
   "outputs": [],
   "source": [
    "# set list to store all of the monthly changes\n",
    "monthChange = []      \n",
    "months = []"
   ]
  },
  {
   "cell_type": "code",
   "execution_count": null,
   "id": "8cd4227e",
   "metadata": {},
   "outputs": [],
   "source": [
    "# use csvreader object to read the csv file with csvreader object\n",
    "with open(csvpath, newline = \"\") as csvfile:\n",
    "    # create a csv reader object\n",
    "    csvreader = csv.reader(csvfile, delimiter=\",\")\n",
    "    \n",
    "    # skip the first row since it has all of the column information\n",
    "    #next(csvreader)\n",
    "    \n",
    "#header: date, profit/losses\n",
    "print(csvreader)\n",
    "\n",
    "\n",
    "#with open(inputfile) as budget_data:\n",
    "#    # create a csv reader object\n",
    "#    csvreader = csv.reader(budget_data)"
   ]
  },
  {
   "cell_type": "code",
   "execution_count": null,
   "id": "8070c189",
   "metadata": {},
   "outputs": [],
   "source": [
    "with open(cereal_csv, encoding='utf-8-sig') as csvfile:\n",
    "    csv_reader = csv.reader(csvfile, delimiter=\",\")\n",
    "\n",
    "    # @NOTE: This time, we do not use `next(csv_reader)` because there is no header for this file\n",
    "\n",
    "    # read the header row\n",
    "    header = next(csvreader)\n",
    "    # move to the next row (first row)\n",
    "    firstRow = next(csvreader)\n",
    "    \n",
    "#    # Read through each row of data after the header\n",
    "#    for row in csv_reader:\n",
    "\n",
    "#        # Convert row to float and compare to grams of fiber\n",
    " #       if float(row[7]) >= 5:\n",
    " #           print(row)"
   ]
  },
  {
   "cell_type": "code",
   "execution_count": null,
   "id": "2cd835c1",
   "metadata": {},
   "outputs": [],
   "source": [
    "   # establish the previous budget and note that budget is in index 1\n",
    "    previousBudget = float(firstRow[1])\n",
    "    # increment the total months and add on to the total amount of budget\n",
    "    totalMonths += 1\n",
    "    totalBudget += float(firstRow[1])"
   ]
  },
  {
   "cell_type": "code",
   "execution_count": null,
   "id": "53672c61",
   "metadata": {},
   "outputs": [],
   "source": [
    "    for row in csvreader:\n",
    "        totalMonths += 1\n",
    "\n",
    "\n",
    "        totalBudget += float(row[1])\n",
    "\n",
    "\n",
    "        # calculate the net change\n",
    "        netChange = float(row[1]) - previousBudget\n",
    "        # add on to the list of monthly changes\n",
    "        monthlyChanges.append(netChange)\n",
    "\n",
    "\n",
    "        # add the first month that a change occurred, note that the month is in index 0\n",
    "        months.append(row[0])\n",
    "\n",
    "\n",
    "        # update the previous budget\n",
    "        previousBudget = float(row[1])\n",
    "\n",
    "\n"
   ]
  },
  {
   "cell_type": "code",
   "execution_count": null,
   "id": "6df6f5ec",
   "metadata": {},
   "outputs": [],
   "source": [
    "# calculate the average change \n",
    "averageChange = sum(monthlyChanges) / len(monthlyChanges)"
   ]
  },
  {
   "cell_type": "code",
   "execution_count": null,
   "id": "027cc4e8",
   "metadata": {},
   "outputs": [],
   "source": [
    "# set variables to hold the month and value of the greatest increase and decrease in profits\n",
    "greatestIncrease = [months[0], monthlyChanges[0]]\n",
    "greatestDecrease = [months[0], monthlyChanges[0]]"
   ]
  },
  {
   "cell_type": "code",
   "execution_count": null,
   "id": "7d08f1f6",
   "metadata": {},
   "outputs": [],
   "source": [
    "# create loop to calculate the index of the greatest and least monthly change\n",
    "for m in range(len(monthlyChanges)):\n",
    "    if (monthlyChanges[m] > greatestIncrease[1]):\n",
    "        greatestIncrease[1] = monthlyChanges[m]\n",
    "        greatestIncrease[0] = months[m]\n",
    "\n",
    "\n",
    "    if (monthlyChanges[m] < greatestDecrease[1]):\n",
    "        greatestDecrease[1] = monthlyChanges[m]\n",
    "        greatestDecrease[0] = months[m]    \n",
    "\n",
    "\n",
    "# start generating the output\n",
    "output = (\n",
    "    f\"Financial Anaylsis \\n\"\n",
    "    f\"------------------------- \\n\"\n",
    "    f\"Total Months: {totalMonths} \\n\"\n",
    "    f\"Total Budget: ${totalBudget} \\n\"\n",
    "    f\"Average Change: ${averageChange} \\n\"\n",
    "    f\"Greatest Increase in Profit: {greatestIncrease[0]} ({greatestIncrease[1]}) \\n\"\n",
    "    f\"Greatest Dncrease in Profit: {greatestDecrease[0]} ({greatestDecrease[1]})\"\n",
    "    )\n",
    "\n"
   ]
  },
  {
   "cell_type": "code",
   "execution_count": null,
   "id": "fbdbd599",
   "metadata": {},
   "outputs": [],
   "source": [
    "\n",
    "# print the output\n",
    "print(output)\n",
    "\n",
    "\n",
    "# export the output to the output text file\n",
    "with open(outputfile, \"w\") as textfile:\n",
    "    textfile.write(output)"
   ]
  },
  {
   "cell_type": "code",
   "execution_count": null,
   "id": "631da22e",
   "metadata": {},
   "outputs": [],
   "source": []
  },
  {
   "cell_type": "code",
   "execution_count": null,
   "id": "92745706",
   "metadata": {},
   "outputs": [],
   "source": []
  }
 ],
 "metadata": {
  "kernelspec": {
   "display_name": "Python 3",
   "language": "python",
   "name": "python3"
  },
  "language_info": {
   "codemirror_mode": {
    "name": "ipython",
    "version": 3
   },
   "file_extension": ".py",
   "mimetype": "text/x-python",
   "name": "python",
   "nbconvert_exporter": "python",
   "pygments_lexer": "ipython3",
   "version": "3.8.8"
  }
 },
 "nbformat": 4,
 "nbformat_minor": 5
}
